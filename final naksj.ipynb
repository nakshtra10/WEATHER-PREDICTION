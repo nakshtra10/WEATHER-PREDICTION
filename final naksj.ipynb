{
 "cells": [
  {
   "cell_type": "code",
   "execution_count": 1,
   "id": "8d19f905",
   "metadata": {},
   "outputs": [
    {
     "name": "stderr",
     "output_type": "stream",
     "text": [
      "C:\\ProgramData\\Anaconda3\\lib\\site-packages\\scipy\\__init__.py:146: UserWarning: A NumPy version >=1.16.5 and <1.23.0 is required for this version of SciPy (detected version 1.26.4\n",
      "  warnings.warn(f\"A NumPy version >={np_minversion} and <{np_maxversion}\"\n"
     ]
    }
   ],
   "source": [
    "import numpy as np\n",
    "import pandas as pd\n",
    "from sklearn.model_selection import train_test_split\n",
    "from sklearn.preprocessing import MinMaxScaler\n",
    "from tensorflow.keras.models import Sequential\n",
    "from tensorflow.keras.layers import Dense, Dropout\n",
    "from tensorflow.keras.optimizers import Adam\n",
    "import urllib.request\n",
    "from geopy.geocoders import Nominatim\n",
    "from sklearn.metrics import mean_absolute_error\n",
    "from datetime import date"
   ]
  },
  {
   "cell_type": "code",
   "execution_count": 28,
   "id": "ae718db1",
   "metadata": {},
   "outputs": [],
   "source": [
    "def get_dataset(place,output_file_name):\n",
    "\n",
    "    t = date.today()\n",
    "    s_date = str(t)\n",
    "    end_date = s_date[:4] + s_date[5:7] + str(int(s_date[8:])-3)\n",
    "    start_date = '20000101'\n",
    "    \n",
    "    geolocator = Nominatim(user_agent = \"Rxghav\")\n",
    "    location = geolocator.geocode(place)\n",
    "    latitude = location.latitude\n",
    "    longitude = location.longitude\n",
    "    url = \"https://power.larc.nasa.gov/api/temporal/daily/point?start={}&end={}&latitude={}&longitude={}&community=re&parameters=T2M_MAX%2CT2M_MIN%2CRH2M%2CPRECTOTCORR%2CPS%2CWS10M_RANGE&format=csv&header=true&time-standard=lst\".format(start_date,end_date,latitude,longitude)\n",
    "    output_file_name = output_file_name + '.csv'\n",
    "    urllib.request.urlretrieve(url,output_file_name)\n",
    "    return pd.read_csv(output_file_name,skiprows=14)\n",
    "    \n",
    "    "
   ]
  },
  {
   "cell_type": "code",
   "execution_count": 41,
   "id": "14a10cc7",
   "metadata": {},
   "outputs": [],
   "source": [
    "from sklearn.linear_model import LinearRegression"
   ]
  },
  {
   "cell_type": "code",
   "execution_count": 42,
   "id": "584bcd90",
   "metadata": {},
   "outputs": [],
   "source": [
    "features_ppt = ['RH2M', 'PS', 'T2M_MAX', 'WS10M_RANGE','T2M_MIN']\n",
    "target_ptt = 'PRECTOTCORR'\n",
    "precipitate_model = LinearRegression()"
   ]
  },
  {
   "cell_type": "code",
   "execution_count": 43,
   "id": "98cd426d",
   "metadata": {},
   "outputs": [],
   "source": [
    "prec_X = test[features_ppt]\n",
    "prec_Y = test[target_ptt]"
   ]
  },
  {
   "cell_type": "code",
   "execution_count": 44,
   "id": "00bab721",
   "metadata": {},
   "outputs": [],
   "source": [
    "x_train_ppt, x_test_ppt, y_train_ppt, y_test_ppt = train_test_split(prec_X, prec_Y, test_size=0.1, random_state=42)\n"
   ]
  },
  {
   "cell_type": "code",
   "execution_count": 45,
   "id": "892af1d2",
   "metadata": {},
   "outputs": [
    {
     "data": {
      "text/plain": [
       "LinearRegression()"
      ]
     },
     "execution_count": 45,
     "metadata": {},
     "output_type": "execute_result"
    }
   ],
   "source": [
    "precipitate_model.fit(x_train_ppt,y_train_ppt)"
   ]
  },
  {
   "cell_type": "code",
   "execution_count": null,
   "id": "07e81f4f",
   "metadata": {},
   "outputs": [],
   "source": []
  },
  {
   "cell_type": "code",
   "execution_count": 29,
   "id": "af1862b7",
   "metadata": {},
   "outputs": [
    {
     "name": "stdout",
     "output_type": "stream",
     "text": [
      "Enter Name of City for Predicting WeatherKolkata\n"
     ]
    }
   ],
   "source": [
    "loc = input(\"Enter Name of City for Predicting Weather\")\n",
    "loc_name = loc + 'weather.csv'"
   ]
  },
  {
   "cell_type": "code",
   "execution_count": 30,
   "id": "1325a504",
   "metadata": {},
   "outputs": [],
   "source": [
    "test = get_dataset(loc,loc_name)"
   ]
  },
  {
   "cell_type": "code",
   "execution_count": 19,
   "id": "7b9f35fe",
   "metadata": {},
   "outputs": [],
   "source": [
    "from datetime import date\n",
    "t = date.today()"
   ]
  },
  {
   "cell_type": "code",
   "execution_count": 20,
   "id": "597ff889",
   "metadata": {},
   "outputs": [
    {
     "data": {
      "text/plain": [
       "datetime.date(2024, 4, 26)"
      ]
     },
     "execution_count": 20,
     "metadata": {},
     "output_type": "execute_result"
    }
   ],
   "source": [
    "t"
   ]
  },
  {
   "cell_type": "code",
   "execution_count": 22,
   "id": "0e4be72a",
   "metadata": {},
   "outputs": [],
   "source": []
  },
  {
   "cell_type": "code",
   "execution_count": 23,
   "id": "b860fec9",
   "metadata": {},
   "outputs": [
    {
     "data": {
      "text/plain": [
       "'2024-04-26'"
      ]
     },
     "execution_count": 23,
     "metadata": {},
     "output_type": "execute_result"
    }
   ],
   "source": [
    "s_date"
   ]
  },
  {
   "cell_type": "code",
   "execution_count": 26,
   "id": "d64708fc",
   "metadata": {},
   "outputs": [],
   "source": [
    "from datetime import date\n",
    "t = date.today()\n",
    "\n",
    "s_date = str(t)\n",
    "new_date = s_date[:4] + s_date[5:7] + str(int(s_date[8:])-3)\n"
   ]
  },
  {
   "cell_type": "code",
   "execution_count": 27,
   "id": "89637746",
   "metadata": {},
   "outputs": [
    {
     "data": {
      "text/plain": [
       "'20240423'"
      ]
     },
     "execution_count": 27,
     "metadata": {},
     "output_type": "execute_result"
    }
   ],
   "source": [
    "new_date"
   ]
  },
  {
   "cell_type": "code",
   "execution_count": null,
   "id": "ce7f954e",
   "metadata": {},
   "outputs": [],
   "source": []
  },
  {
   "cell_type": "code",
   "execution_count": 31,
   "id": "5278414f",
   "metadata": {},
   "outputs": [
    {
     "data": {
      "text/html": [
       "<div>\n",
       "<style scoped>\n",
       "    .dataframe tbody tr th:only-of-type {\n",
       "        vertical-align: middle;\n",
       "    }\n",
       "\n",
       "    .dataframe tbody tr th {\n",
       "        vertical-align: top;\n",
       "    }\n",
       "\n",
       "    .dataframe thead th {\n",
       "        text-align: right;\n",
       "    }\n",
       "</style>\n",
       "<table border=\"1\" class=\"dataframe\">\n",
       "  <thead>\n",
       "    <tr style=\"text-align: right;\">\n",
       "      <th></th>\n",
       "      <th>YEAR</th>\n",
       "      <th>MO</th>\n",
       "      <th>DY</th>\n",
       "      <th>T2M_MAX</th>\n",
       "      <th>T2M_MIN</th>\n",
       "      <th>RH2M</th>\n",
       "      <th>PRECTOTCORR</th>\n",
       "      <th>PS</th>\n",
       "      <th>WS10M_RANGE</th>\n",
       "    </tr>\n",
       "  </thead>\n",
       "  <tbody>\n",
       "    <tr>\n",
       "      <th>8875</th>\n",
       "      <td>2024</td>\n",
       "      <td>4</td>\n",
       "      <td>19</td>\n",
       "      <td>43.72</td>\n",
       "      <td>26.03</td>\n",
       "      <td>49.69</td>\n",
       "      <td>0.02</td>\n",
       "      <td>100.12</td>\n",
       "      <td>3.90</td>\n",
       "    </tr>\n",
       "    <tr>\n",
       "      <th>8876</th>\n",
       "      <td>2024</td>\n",
       "      <td>4</td>\n",
       "      <td>20</td>\n",
       "      <td>45.23</td>\n",
       "      <td>27.15</td>\n",
       "      <td>48.50</td>\n",
       "      <td>0.07</td>\n",
       "      <td>100.08</td>\n",
       "      <td>3.68</td>\n",
       "    </tr>\n",
       "    <tr>\n",
       "      <th>8877</th>\n",
       "      <td>2024</td>\n",
       "      <td>4</td>\n",
       "      <td>21</td>\n",
       "      <td>43.58</td>\n",
       "      <td>28.02</td>\n",
       "      <td>50.88</td>\n",
       "      <td>0.21</td>\n",
       "      <td>100.19</td>\n",
       "      <td>4.41</td>\n",
       "    </tr>\n",
       "    <tr>\n",
       "      <th>8878</th>\n",
       "      <td>2024</td>\n",
       "      <td>4</td>\n",
       "      <td>22</td>\n",
       "      <td>44.18</td>\n",
       "      <td>29.01</td>\n",
       "      <td>41.25</td>\n",
       "      <td>0.30</td>\n",
       "      <td>100.37</td>\n",
       "      <td>3.52</td>\n",
       "    </tr>\n",
       "    <tr>\n",
       "      <th>8879</th>\n",
       "      <td>2024</td>\n",
       "      <td>4</td>\n",
       "      <td>23</td>\n",
       "      <td>43.66</td>\n",
       "      <td>27.30</td>\n",
       "      <td>30.75</td>\n",
       "      <td>0.00</td>\n",
       "      <td>100.31</td>\n",
       "      <td>3.90</td>\n",
       "    </tr>\n",
       "  </tbody>\n",
       "</table>\n",
       "</div>"
      ],
      "text/plain": [
       "      YEAR  MO  DY  T2M_MAX  T2M_MIN   RH2M  PRECTOTCORR      PS  WS10M_RANGE\n",
       "8875  2024   4  19    43.72    26.03  49.69         0.02  100.12         3.90\n",
       "8876  2024   4  20    45.23    27.15  48.50         0.07  100.08         3.68\n",
       "8877  2024   4  21    43.58    28.02  50.88         0.21  100.19         4.41\n",
       "8878  2024   4  22    44.18    29.01  41.25         0.30  100.37         3.52\n",
       "8879  2024   4  23    43.66    27.30  30.75         0.00  100.31         3.90"
      ]
     },
     "execution_count": 31,
     "metadata": {},
     "output_type": "execute_result"
    }
   ],
   "source": [
    "test.tail()"
   ]
  },
  {
   "cell_type": "code",
   "execution_count": null,
   "id": "946b97c6",
   "metadata": {},
   "outputs": [],
   "source": [
    "def "
   ]
  },
  {
   "cell_type": "code",
   "execution_count": 21,
   "id": "a698dcb9",
   "metadata": {},
   "outputs": [],
   "source": [
    "def pre_process_weather_data(weather_df):\n",
    "    #DATA Preprocessing\n",
    "    weather_df['YEAR'] = weather_df.YEAR.astype(str)\n",
    "    weather_df['MO'] = weather_df.MO.astype(str)\n",
    "    weather_df['DY'] = weather_df.DY.astype(str)\n",
    "\n",
    "    weather_df['date'] = weather_df.YEAR.str.cat(weather_df['MO'],sep='/')\n",
    "    weather_df['DATE'] = weather_df.date.str.cat(weather_df['DY'],sep='/')\n",
    "    \n",
    "    #removing unrequired attributes\n",
    "    weather_df.drop(columns=['YEAR','MO','DY','date'],axis=1,inplace=True)\n",
    "    \n",
    "    weather_df.set_index(['DATE'],inplace=True)\n"
   ]
  },
  {
   "cell_type": "code",
   "execution_count": 22,
   "id": "59ceb71a",
   "metadata": {},
   "outputs": [],
   "source": [
    "pre_process_weather_data(test)"
   ]
  },
  {
   "cell_type": "code",
   "execution_count": 23,
   "id": "3ba0545f",
   "metadata": {},
   "outputs": [
    {
     "data": {
      "text/html": [
       "<div>\n",
       "<style scoped>\n",
       "    .dataframe tbody tr th:only-of-type {\n",
       "        vertical-align: middle;\n",
       "    }\n",
       "\n",
       "    .dataframe tbody tr th {\n",
       "        vertical-align: top;\n",
       "    }\n",
       "\n",
       "    .dataframe thead th {\n",
       "        text-align: right;\n",
       "    }\n",
       "</style>\n",
       "<table border=\"1\" class=\"dataframe\">\n",
       "  <thead>\n",
       "    <tr style=\"text-align: right;\">\n",
       "      <th></th>\n",
       "      <th>T2M_MAX</th>\n",
       "      <th>T2M_MIN</th>\n",
       "      <th>RH2M</th>\n",
       "      <th>PRECTOTCORR</th>\n",
       "      <th>PS</th>\n",
       "      <th>WS10M_RANGE</th>\n",
       "    </tr>\n",
       "    <tr>\n",
       "      <th>DATE</th>\n",
       "      <th></th>\n",
       "      <th></th>\n",
       "      <th></th>\n",
       "      <th></th>\n",
       "      <th></th>\n",
       "      <th></th>\n",
       "    </tr>\n",
       "  </thead>\n",
       "  <tbody>\n",
       "    <tr>\n",
       "      <th>2024/4/19</th>\n",
       "      <td>-999.0</td>\n",
       "      <td>-999.0</td>\n",
       "      <td>-999.0</td>\n",
       "      <td>-999.0</td>\n",
       "      <td>-999.0</td>\n",
       "      <td>-999.0</td>\n",
       "    </tr>\n",
       "    <tr>\n",
       "      <th>2024/4/20</th>\n",
       "      <td>-999.0</td>\n",
       "      <td>-999.0</td>\n",
       "      <td>-999.0</td>\n",
       "      <td>-999.0</td>\n",
       "      <td>-999.0</td>\n",
       "      <td>-999.0</td>\n",
       "    </tr>\n",
       "    <tr>\n",
       "      <th>2024/4/21</th>\n",
       "      <td>-999.0</td>\n",
       "      <td>-999.0</td>\n",
       "      <td>-999.0</td>\n",
       "      <td>-999.0</td>\n",
       "      <td>-999.0</td>\n",
       "      <td>-999.0</td>\n",
       "    </tr>\n",
       "    <tr>\n",
       "      <th>2024/4/22</th>\n",
       "      <td>-999.0</td>\n",
       "      <td>-999.0</td>\n",
       "      <td>-999.0</td>\n",
       "      <td>-999.0</td>\n",
       "      <td>-999.0</td>\n",
       "      <td>-999.0</td>\n",
       "    </tr>\n",
       "    <tr>\n",
       "      <th>2024/4/23</th>\n",
       "      <td>-999.0</td>\n",
       "      <td>-999.0</td>\n",
       "      <td>-999.0</td>\n",
       "      <td>-999.0</td>\n",
       "      <td>-999.0</td>\n",
       "      <td>-999.0</td>\n",
       "    </tr>\n",
       "  </tbody>\n",
       "</table>\n",
       "</div>"
      ],
      "text/plain": [
       "           T2M_MAX  T2M_MIN   RH2M  PRECTOTCORR     PS  WS10M_RANGE\n",
       "DATE                                                               \n",
       "2024/4/19   -999.0   -999.0 -999.0       -999.0 -999.0       -999.0\n",
       "2024/4/20   -999.0   -999.0 -999.0       -999.0 -999.0       -999.0\n",
       "2024/4/21   -999.0   -999.0 -999.0       -999.0 -999.0       -999.0\n",
       "2024/4/22   -999.0   -999.0 -999.0       -999.0 -999.0       -999.0\n",
       "2024/4/23   -999.0   -999.0 -999.0       -999.0 -999.0       -999.0"
      ]
     },
     "execution_count": 23,
     "metadata": {},
     "output_type": "execute_result"
    }
   ],
   "source": [
    "test.tail()"
   ]
  },
  {
   "cell_type": "code",
   "execution_count": 9,
   "id": "7da6c21d",
   "metadata": {},
   "outputs": [],
   "source": [
    "X = test[['RH2M', 'PRECTOTCORR', 'PS', 'WS10M_RANGE']] #input variables (relation)\n",
    "Y = test[['T2M_MAX', 'T2M_MIN']]  # Two target variables"
   ]
  },
  {
   "cell_type": "code",
   "execution_count": 10,
   "id": "acab4e70",
   "metadata": {},
   "outputs": [],
   "source": [
    "#train_test split\n",
    "\n",
    "x_train, x_test, y_train, y_test = train_test_split(X, Y, test_size=0.1, random_state=42)\n"
   ]
  },
  {
   "cell_type": "code",
   "execution_count": 11,
   "id": "ea64bd3f",
   "metadata": {},
   "outputs": [],
   "source": [
    "#normalizing data and also converted into np array for ANN INput\n",
    "scaler_X = MinMaxScaler()\n",
    "x_train_scaled = scaler_X.fit_transform(x_train)\n",
    "x_test_scaled = scaler_X.transform(x_test)\n",
    "\n",
    "scaler_y = MinMaxScaler()\n",
    "y_train_scaled = scaler_y.fit_transform(y_train)\n",
    "y_test_scaled = scaler_y.transform(y_test)"
   ]
  },
  {
   "cell_type": "code",
   "execution_count": 12,
   "id": "8a2d341d",
   "metadata": {},
   "outputs": [
    {
     "name": "stderr",
     "output_type": "stream",
     "text": [
      "C:\\ProgramData\\Anaconda3\\lib\\site-packages\\keras\\src\\layers\\core\\dense.py:88: UserWarning: Do not pass an `input_shape`/`input_dim` argument to a layer. When using Sequential models, prefer using an `Input(shape)` object as the first layer in the model instead.\n",
      "  super().__init__(activity_regularizer=activity_regularizer, **kwargs)\n"
     ]
    }
   ],
   "source": [
    "weather_model = Sequential([\n",
    "    Dense(64, activation='relu', input_shape=(4,)),\n",
    "    Dense(32, activation='relu'),\n",
    "    Dense(2, activation='softmax')  # Two output neurons for temp_max and temp_min\n",
    "])"
   ]
  },
  {
   "cell_type": "code",
   "execution_count": 13,
   "id": "0a7fb14f",
   "metadata": {},
   "outputs": [],
   "source": [
    "weather_model.compile(optimizer='adam',loss='mean_squared_error',metrics=['accuracy'])"
   ]
  },
  {
   "cell_type": "code",
   "execution_count": 14,
   "id": "3fe8a5d1",
   "metadata": {},
   "outputs": [
    {
     "name": "stdout",
     "output_type": "stream",
     "text": [
      "Epoch 1/100\n",
      "\u001b[1m199/199\u001b[0m \u001b[32m━━━━━━━━━━━━━━━━━━━━\u001b[0m\u001b[37m\u001b[0m \u001b[1m3s\u001b[0m 7ms/step - accuracy: 0.7958 - loss: 0.0270 - val_accuracy: 0.8957 - val_loss: 0.0219\n",
      "Epoch 2/100\n",
      "\u001b[1m199/199\u001b[0m \u001b[32m━━━━━━━━━━━━━━━━━━━━\u001b[0m\u001b[37m\u001b[0m \u001b[1m1s\u001b[0m 4ms/step - accuracy: 0.8844 - loss: 0.0222 - val_accuracy: 0.8950 - val_loss: 0.0219\n",
      "Epoch 3/100\n",
      "\u001b[1m199/199\u001b[0m \u001b[32m━━━━━━━━━━━━━━━━━━━━\u001b[0m\u001b[37m\u001b[0m \u001b[1m1s\u001b[0m 4ms/step - accuracy: 0.8896 - loss: 0.0215 - val_accuracy: 0.8894 - val_loss: 0.0220\n",
      "Epoch 4/100\n",
      "\u001b[1m199/199\u001b[0m \u001b[32m━━━━━━━━━━━━━━━━━━━━\u001b[0m\u001b[37m\u001b[0m \u001b[1m1s\u001b[0m 4ms/step - accuracy: 0.8885 - loss: 0.0221 - val_accuracy: 0.8975 - val_loss: 0.0219\n",
      "Epoch 5/100\n",
      "\u001b[1m199/199\u001b[0m \u001b[32m━━━━━━━━━━━━━━━━━━━━\u001b[0m\u001b[37m\u001b[0m \u001b[1m1s\u001b[0m 4ms/step - accuracy: 0.8899 - loss: 0.0220 - val_accuracy: 0.8975 - val_loss: 0.0219\n",
      "Epoch 6/100\n",
      "\u001b[1m199/199\u001b[0m \u001b[32m━━━━━━━━━━━━━━━━━━━━\u001b[0m\u001b[37m\u001b[0m \u001b[1m1s\u001b[0m 3ms/step - accuracy: 0.8946 - loss: 0.0217 - val_accuracy: 0.8950 - val_loss: 0.0219\n",
      "Epoch 7/100\n",
      "\u001b[1m199/199\u001b[0m \u001b[32m━━━━━━━━━━━━━━━━━━━━\u001b[0m\u001b[37m\u001b[0m \u001b[1m1s\u001b[0m 3ms/step - accuracy: 0.8915 - loss: 0.0219 - val_accuracy: 0.8919 - val_loss: 0.0219\n",
      "Epoch 8/100\n",
      "\u001b[1m199/199\u001b[0m \u001b[32m━━━━━━━━━━━━━━━━━━━━\u001b[0m\u001b[37m\u001b[0m \u001b[1m1s\u001b[0m 3ms/step - accuracy: 0.8834 - loss: 0.0213 - val_accuracy: 0.8982 - val_loss: 0.0218\n",
      "Epoch 9/100\n",
      "\u001b[1m199/199\u001b[0m \u001b[32m━━━━━━━━━━━━━━━━━━━━\u001b[0m\u001b[37m\u001b[0m \u001b[1m1s\u001b[0m 3ms/step - accuracy: 0.8961 - loss: 0.0219 - val_accuracy: 0.9026 - val_loss: 0.0219\n",
      "Epoch 10/100\n",
      "\u001b[1m199/199\u001b[0m \u001b[32m━━━━━━━━━━━━━━━━━━━━\u001b[0m\u001b[37m\u001b[0m \u001b[1m1s\u001b[0m 3ms/step - accuracy: 0.8945 - loss: 0.0215 - val_accuracy: 0.8969 - val_loss: 0.0219\n",
      "Epoch 11/100\n",
      "\u001b[1m199/199\u001b[0m \u001b[32m━━━━━━━━━━━━━━━━━━━━\u001b[0m\u001b[37m\u001b[0m \u001b[1m1s\u001b[0m 3ms/step - accuracy: 0.8955 - loss: 0.0218 - val_accuracy: 0.8944 - val_loss: 0.0218\n",
      "Epoch 12/100\n",
      "\u001b[1m199/199\u001b[0m \u001b[32m━━━━━━━━━━━━━━━━━━━━\u001b[0m\u001b[37m\u001b[0m \u001b[1m1s\u001b[0m 3ms/step - accuracy: 0.8957 - loss: 0.0220 - val_accuracy: 0.8969 - val_loss: 0.0218\n",
      "Epoch 13/100\n",
      "\u001b[1m199/199\u001b[0m \u001b[32m━━━━━━━━━━━━━━━━━━━━\u001b[0m\u001b[37m\u001b[0m \u001b[1m1s\u001b[0m 3ms/step - accuracy: 0.9004 - loss: 0.0211 - val_accuracy: 0.9007 - val_loss: 0.0219\n",
      "Epoch 14/100\n",
      "\u001b[1m199/199\u001b[0m \u001b[32m━━━━━━━━━━━━━━━━━━━━\u001b[0m\u001b[37m\u001b[0m \u001b[1m1s\u001b[0m 3ms/step - accuracy: 0.8982 - loss: 0.0219 - val_accuracy: 0.8957 - val_loss: 0.0219\n",
      "Epoch 15/100\n",
      "\u001b[1m199/199\u001b[0m \u001b[32m━━━━━━━━━━━━━━━━━━━━\u001b[0m\u001b[37m\u001b[0m \u001b[1m1s\u001b[0m 3ms/step - accuracy: 0.8983 - loss: 0.0215 - val_accuracy: 0.8975 - val_loss: 0.0219\n",
      "Epoch 16/100\n",
      "\u001b[1m199/199\u001b[0m \u001b[32m━━━━━━━━━━━━━━━━━━━━\u001b[0m\u001b[37m\u001b[0m \u001b[1m1s\u001b[0m 2ms/step - accuracy: 0.8890 - loss: 0.0216 - val_accuracy: 0.8957 - val_loss: 0.0218\n",
      "Epoch 17/100\n",
      "\u001b[1m199/199\u001b[0m \u001b[32m━━━━━━━━━━━━━━━━━━━━\u001b[0m\u001b[37m\u001b[0m \u001b[1m1s\u001b[0m 3ms/step - accuracy: 0.8918 - loss: 0.0217 - val_accuracy: 0.8894 - val_loss: 0.0220\n",
      "Epoch 18/100\n",
      "\u001b[1m199/199\u001b[0m \u001b[32m━━━━━━━━━━━━━━━━━━━━\u001b[0m\u001b[37m\u001b[0m \u001b[1m1s\u001b[0m 3ms/step - accuracy: 0.8998 - loss: 0.0211 - val_accuracy: 0.8931 - val_loss: 0.0218\n",
      "Epoch 19/100\n",
      "\u001b[1m199/199\u001b[0m \u001b[32m━━━━━━━━━━━━━━━━━━━━\u001b[0m\u001b[37m\u001b[0m \u001b[1m0s\u001b[0m 2ms/step - accuracy: 0.8898 - loss: 0.0213 - val_accuracy: 0.8931 - val_loss: 0.0218\n",
      "Epoch 20/100\n",
      "\u001b[1m199/199\u001b[0m \u001b[32m━━━━━━━━━━━━━━━━━━━━\u001b[0m\u001b[37m\u001b[0m \u001b[1m1s\u001b[0m 3ms/step - accuracy: 0.8965 - loss: 0.0218 - val_accuracy: 0.9001 - val_loss: 0.0218\n",
      "Epoch 21/100\n",
      "\u001b[1m199/199\u001b[0m \u001b[32m━━━━━━━━━━━━━━━━━━━━\u001b[0m\u001b[37m\u001b[0m \u001b[1m1s\u001b[0m 3ms/step - accuracy: 0.8873 - loss: 0.0216 - val_accuracy: 0.8969 - val_loss: 0.0218\n",
      "Epoch 22/100\n",
      "\u001b[1m199/199\u001b[0m \u001b[32m━━━━━━━━━━━━━━━━━━━━\u001b[0m\u001b[37m\u001b[0m \u001b[1m1s\u001b[0m 3ms/step - accuracy: 0.8888 - loss: 0.0216 - val_accuracy: 0.8969 - val_loss: 0.0219\n",
      "Epoch 23/100\n",
      "\u001b[1m199/199\u001b[0m \u001b[32m━━━━━━━━━━━━━━━━━━━━\u001b[0m\u001b[37m\u001b[0m \u001b[1m1s\u001b[0m 4ms/step - accuracy: 0.8962 - loss: 0.0214 - val_accuracy: 0.9007 - val_loss: 0.0218\n",
      "Epoch 24/100\n",
      "\u001b[1m199/199\u001b[0m \u001b[32m━━━━━━━━━━━━━━━━━━━━\u001b[0m\u001b[37m\u001b[0m \u001b[1m1s\u001b[0m 4ms/step - accuracy: 0.8893 - loss: 0.0218 - val_accuracy: 0.8957 - val_loss: 0.0218\n",
      "Epoch 25/100\n",
      "\u001b[1m199/199\u001b[0m \u001b[32m━━━━━━━━━━━━━━━━━━━━\u001b[0m\u001b[37m\u001b[0m \u001b[1m1s\u001b[0m 4ms/step - accuracy: 0.8924 - loss: 0.0224 - val_accuracy: 0.9001 - val_loss: 0.0218\n",
      "Epoch 26/100\n",
      "\u001b[1m199/199\u001b[0m \u001b[32m━━━━━━━━━━━━━━━━━━━━\u001b[0m\u001b[37m\u001b[0m \u001b[1m1s\u001b[0m 4ms/step - accuracy: 0.8918 - loss: 0.0217 - val_accuracy: 0.9026 - val_loss: 0.0218\n",
      "Epoch 27/100\n",
      "\u001b[1m199/199\u001b[0m \u001b[32m━━━━━━━━━━━━━━━━━━━━\u001b[0m\u001b[37m\u001b[0m \u001b[1m1s\u001b[0m 3ms/step - accuracy: 0.8884 - loss: 0.0209 - val_accuracy: 0.8994 - val_loss: 0.0218\n",
      "Epoch 28/100\n",
      "\u001b[1m199/199\u001b[0m \u001b[32m━━━━━━━━━━━━━━━━━━━━\u001b[0m\u001b[37m\u001b[0m \u001b[1m1s\u001b[0m 3ms/step - accuracy: 0.8905 - loss: 0.0213 - val_accuracy: 0.9045 - val_loss: 0.0218\n",
      "Epoch 29/100\n",
      "\u001b[1m199/199\u001b[0m \u001b[32m━━━━━━━━━━━━━━━━━━━━\u001b[0m\u001b[37m\u001b[0m \u001b[1m1s\u001b[0m 3ms/step - accuracy: 0.8935 - loss: 0.0220 - val_accuracy: 0.8969 - val_loss: 0.0218\n",
      "Epoch 30/100\n",
      "\u001b[1m199/199\u001b[0m \u001b[32m━━━━━━━━━━━━━━━━━━━━\u001b[0m\u001b[37m\u001b[0m \u001b[1m1s\u001b[0m 3ms/step - accuracy: 0.9000 - loss: 0.0219 - val_accuracy: 0.8944 - val_loss: 0.0219\n",
      "Epoch 31/100\n",
      "\u001b[1m199/199\u001b[0m \u001b[32m━━━━━━━━━━━━━━━━━━━━\u001b[0m\u001b[37m\u001b[0m \u001b[1m1s\u001b[0m 3ms/step - accuracy: 0.8927 - loss: 0.0215 - val_accuracy: 0.8957 - val_loss: 0.0218\n",
      "Epoch 32/100\n",
      "\u001b[1m199/199\u001b[0m \u001b[32m━━━━━━━━━━━━━━━━━━━━\u001b[0m\u001b[37m\u001b[0m \u001b[1m1s\u001b[0m 3ms/step - accuracy: 0.8995 - loss: 0.0218 - val_accuracy: 0.8931 - val_loss: 0.0218\n",
      "Epoch 33/100\n",
      "\u001b[1m199/199\u001b[0m \u001b[32m━━━━━━━━━━━━━━━━━━━━\u001b[0m\u001b[37m\u001b[0m \u001b[1m1s\u001b[0m 3ms/step - accuracy: 0.8971 - loss: 0.0222 - val_accuracy: 0.9001 - val_loss: 0.0218\n",
      "Epoch 34/100\n",
      "\u001b[1m199/199\u001b[0m \u001b[32m━━━━━━━━━━━━━━━━━━━━\u001b[0m\u001b[37m\u001b[0m \u001b[1m1s\u001b[0m 3ms/step - accuracy: 0.8983 - loss: 0.0219 - val_accuracy: 0.8988 - val_loss: 0.0218\n",
      "Epoch 35/100\n",
      "\u001b[1m199/199\u001b[0m \u001b[32m━━━━━━━━━━━━━━━━━━━━\u001b[0m\u001b[37m\u001b[0m \u001b[1m1s\u001b[0m 3ms/step - accuracy: 0.8905 - loss: 0.0212 - val_accuracy: 0.8994 - val_loss: 0.0218\n",
      "Epoch 36/100\n",
      "\u001b[1m199/199\u001b[0m \u001b[32m━━━━━━━━━━━━━━━━━━━━\u001b[0m\u001b[37m\u001b[0m \u001b[1m1s\u001b[0m 2ms/step - accuracy: 0.8905 - loss: 0.0221 - val_accuracy: 0.8988 - val_loss: 0.0218\n",
      "Epoch 37/100\n",
      "\u001b[1m199/199\u001b[0m \u001b[32m━━━━━━━━━━━━━━━━━━━━\u001b[0m\u001b[37m\u001b[0m \u001b[1m1s\u001b[0m 3ms/step - accuracy: 0.8924 - loss: 0.0215 - val_accuracy: 0.8931 - val_loss: 0.0218\n",
      "Epoch 38/100\n",
      "\u001b[1m199/199\u001b[0m \u001b[32m━━━━━━━━━━━━━━━━━━━━\u001b[0m\u001b[37m\u001b[0m \u001b[1m1s\u001b[0m 3ms/step - accuracy: 0.9002 - loss: 0.0219 - val_accuracy: 0.8988 - val_loss: 0.0218\n",
      "Epoch 39/100\n",
      "\u001b[1m199/199\u001b[0m \u001b[32m━━━━━━━━━━━━━━━━━━━━\u001b[0m\u001b[37m\u001b[0m \u001b[1m1s\u001b[0m 3ms/step - accuracy: 0.8916 - loss: 0.0224 - val_accuracy: 0.9026 - val_loss: 0.0218\n",
      "Epoch 40/100\n",
      "\u001b[1m199/199\u001b[0m \u001b[32m━━━━━━━━━━━━━━━━━━━━\u001b[0m\u001b[37m\u001b[0m \u001b[1m1s\u001b[0m 3ms/step - accuracy: 0.8958 - loss: 0.0214 - val_accuracy: 0.9045 - val_loss: 0.0218\n",
      "Epoch 41/100\n",
      "\u001b[1m199/199\u001b[0m \u001b[32m━━━━━━━━━━━━━━━━━━━━\u001b[0m\u001b[37m\u001b[0m \u001b[1m1s\u001b[0m 3ms/step - accuracy: 0.8990 - loss: 0.0213 - val_accuracy: 0.8982 - val_loss: 0.0218\n",
      "Epoch 42/100\n",
      "\u001b[1m199/199\u001b[0m \u001b[32m━━━━━━━━━━━━━━━━━━━━\u001b[0m\u001b[37m\u001b[0m \u001b[1m1s\u001b[0m 3ms/step - accuracy: 0.8896 - loss: 0.0214 - val_accuracy: 0.9001 - val_loss: 0.0218\n",
      "Epoch 43/100\n",
      "\u001b[1m199/199\u001b[0m \u001b[32m━━━━━━━━━━━━━━━━━━━━\u001b[0m\u001b[37m\u001b[0m \u001b[1m1s\u001b[0m 4ms/step - accuracy: 0.9000 - loss: 0.0216 - val_accuracy: 0.8988 - val_loss: 0.0218\n",
      "Epoch 44/100\n",
      "\u001b[1m199/199\u001b[0m \u001b[32m━━━━━━━━━━━━━━━━━━━━\u001b[0m\u001b[37m\u001b[0m \u001b[1m1s\u001b[0m 3ms/step - accuracy: 0.8993 - loss: 0.0216 - val_accuracy: 0.9007 - val_loss: 0.0218\n",
      "Epoch 45/100\n",
      "\u001b[1m199/199\u001b[0m \u001b[32m━━━━━━━━━━━━━━━━━━━━\u001b[0m\u001b[37m\u001b[0m \u001b[1m1s\u001b[0m 3ms/step - accuracy: 0.8910 - loss: 0.0216 - val_accuracy: 0.9013 - val_loss: 0.0218\n",
      "Epoch 46/100\n",
      "\u001b[1m199/199\u001b[0m \u001b[32m━━━━━━━━━━━━━━━━━━━━\u001b[0m\u001b[37m\u001b[0m \u001b[1m1s\u001b[0m 4ms/step - accuracy: 0.8992 - loss: 0.0220 - val_accuracy: 0.9001 - val_loss: 0.0218\n",
      "Epoch 47/100\n",
      "\u001b[1m199/199\u001b[0m \u001b[32m━━━━━━━━━━━━━━━━━━━━\u001b[0m\u001b[37m\u001b[0m \u001b[1m1s\u001b[0m 4ms/step - accuracy: 0.8989 - loss: 0.0217 - val_accuracy: 0.8957 - val_loss: 0.0219\n",
      "Epoch 48/100\n",
      "\u001b[1m199/199\u001b[0m \u001b[32m━━━━━━━━━━━━━━━━━━━━\u001b[0m\u001b[37m\u001b[0m \u001b[1m1s\u001b[0m 4ms/step - accuracy: 0.8956 - loss: 0.0215 - val_accuracy: 0.8950 - val_loss: 0.0218\n",
      "Epoch 49/100\n",
      "\u001b[1m199/199\u001b[0m \u001b[32m━━━━━━━━━━━━━━━━━━━━\u001b[0m\u001b[37m\u001b[0m \u001b[1m1s\u001b[0m 3ms/step - accuracy: 0.8969 - loss: 0.0212 - val_accuracy: 0.9007 - val_loss: 0.0218\n",
      "Epoch 50/100\n",
      "\u001b[1m199/199\u001b[0m \u001b[32m━━━━━━━━━━━━━━━━━━━━\u001b[0m\u001b[37m\u001b[0m \u001b[1m1s\u001b[0m 3ms/step - accuracy: 0.8929 - loss: 0.0221 - val_accuracy: 0.9001 - val_loss: 0.0218\n",
      "Epoch 51/100\n"
     ]
    },
    {
     "name": "stdout",
     "output_type": "stream",
     "text": [
      "\u001b[1m199/199\u001b[0m \u001b[32m━━━━━━━━━━━━━━━━━━━━\u001b[0m\u001b[37m\u001b[0m \u001b[1m1s\u001b[0m 3ms/step - accuracy: 0.8983 - loss: 0.0214 - val_accuracy: 0.9019 - val_loss: 0.0218\n",
      "Epoch 52/100\n",
      "\u001b[1m199/199\u001b[0m \u001b[32m━━━━━━━━━━━━━━━━━━━━\u001b[0m\u001b[37m\u001b[0m \u001b[1m1s\u001b[0m 3ms/step - accuracy: 0.8986 - loss: 0.0215 - val_accuracy: 0.8969 - val_loss: 0.0217\n",
      "Epoch 53/100\n",
      "\u001b[1m199/199\u001b[0m \u001b[32m━━━━━━━━━━━━━━━━━━━━\u001b[0m\u001b[37m\u001b[0m \u001b[1m1s\u001b[0m 3ms/step - accuracy: 0.8986 - loss: 0.0212 - val_accuracy: 0.9045 - val_loss: 0.0217\n",
      "Epoch 54/100\n",
      "\u001b[1m199/199\u001b[0m \u001b[32m━━━━━━━━━━━━━━━━━━━━\u001b[0m\u001b[37m\u001b[0m \u001b[1m1s\u001b[0m 2ms/step - accuracy: 0.9011 - loss: 0.0217 - val_accuracy: 0.9007 - val_loss: 0.0217\n",
      "Epoch 55/100\n",
      "\u001b[1m199/199\u001b[0m \u001b[32m━━━━━━━━━━━━━━━━━━━━\u001b[0m\u001b[37m\u001b[0m \u001b[1m0s\u001b[0m 2ms/step - accuracy: 0.8914 - loss: 0.0217 - val_accuracy: 0.9007 - val_loss: 0.0217\n",
      "Epoch 56/100\n",
      "\u001b[1m199/199\u001b[0m \u001b[32m━━━━━━━━━━━━━━━━━━━━\u001b[0m\u001b[37m\u001b[0m \u001b[1m0s\u001b[0m 2ms/step - accuracy: 0.9001 - loss: 0.0219 - val_accuracy: 0.8988 - val_loss: 0.0217\n",
      "Epoch 57/100\n",
      "\u001b[1m199/199\u001b[0m \u001b[32m━━━━━━━━━━━━━━━━━━━━\u001b[0m\u001b[37m\u001b[0m \u001b[1m0s\u001b[0m 2ms/step - accuracy: 0.8976 - loss: 0.0214 - val_accuracy: 0.9007 - val_loss: 0.0218\n",
      "Epoch 58/100\n",
      "\u001b[1m199/199\u001b[0m \u001b[32m━━━━━━━━━━━━━━━━━━━━\u001b[0m\u001b[37m\u001b[0m \u001b[1m1s\u001b[0m 2ms/step - accuracy: 0.8951 - loss: 0.0220 - val_accuracy: 0.8957 - val_loss: 0.0218\n",
      "Epoch 59/100\n",
      "\u001b[1m199/199\u001b[0m \u001b[32m━━━━━━━━━━━━━━━━━━━━\u001b[0m\u001b[37m\u001b[0m \u001b[1m1s\u001b[0m 3ms/step - accuracy: 0.8978 - loss: 0.0215 - val_accuracy: 0.9013 - val_loss: 0.0217\n",
      "Epoch 60/100\n",
      "\u001b[1m199/199\u001b[0m \u001b[32m━━━━━━━━━━━━━━━━━━━━\u001b[0m\u001b[37m\u001b[0m \u001b[1m1s\u001b[0m 3ms/step - accuracy: 0.9015 - loss: 0.0216 - val_accuracy: 0.9057 - val_loss: 0.0217\n",
      "Epoch 61/100\n",
      "\u001b[1m199/199\u001b[0m \u001b[32m━━━━━━━━━━━━━━━━━━━━\u001b[0m\u001b[37m\u001b[0m \u001b[1m1s\u001b[0m 2ms/step - accuracy: 0.9031 - loss: 0.0219 - val_accuracy: 0.9013 - val_loss: 0.0217\n",
      "Epoch 62/100\n",
      "\u001b[1m199/199\u001b[0m \u001b[32m━━━━━━━━━━━━━━━━━━━━\u001b[0m\u001b[37m\u001b[0m \u001b[1m1s\u001b[0m 2ms/step - accuracy: 0.8970 - loss: 0.0213 - val_accuracy: 0.9013 - val_loss: 0.0218\n",
      "Epoch 63/100\n",
      "\u001b[1m199/199\u001b[0m \u001b[32m━━━━━━━━━━━━━━━━━━━━\u001b[0m\u001b[37m\u001b[0m \u001b[1m0s\u001b[0m 2ms/step - accuracy: 0.8992 - loss: 0.0211 - val_accuracy: 0.9013 - val_loss: 0.0217\n",
      "Epoch 64/100\n",
      "\u001b[1m199/199\u001b[0m \u001b[32m━━━━━━━━━━━━━━━━━━━━\u001b[0m\u001b[37m\u001b[0m \u001b[1m0s\u001b[0m 2ms/step - accuracy: 0.8946 - loss: 0.0214 - val_accuracy: 0.8982 - val_loss: 0.0218\n",
      "Epoch 65/100\n",
      "\u001b[1m199/199\u001b[0m \u001b[32m━━━━━━━━━━━━━━━━━━━━\u001b[0m\u001b[37m\u001b[0m \u001b[1m0s\u001b[0m 2ms/step - accuracy: 0.8948 - loss: 0.0209 - val_accuracy: 0.8994 - val_loss: 0.0217\n",
      "Epoch 66/100\n",
      "\u001b[1m199/199\u001b[0m \u001b[32m━━━━━━━━━━━━━━━━━━━━\u001b[0m\u001b[37m\u001b[0m \u001b[1m0s\u001b[0m 2ms/step - accuracy: 0.8976 - loss: 0.0209 - val_accuracy: 0.9032 - val_loss: 0.0218\n",
      "Epoch 67/100\n",
      "\u001b[1m199/199\u001b[0m \u001b[32m━━━━━━━━━━━━━━━━━━━━\u001b[0m\u001b[37m\u001b[0m \u001b[1m0s\u001b[0m 2ms/step - accuracy: 0.9017 - loss: 0.0217 - val_accuracy: 0.8969 - val_loss: 0.0217\n",
      "Epoch 68/100\n",
      "\u001b[1m199/199\u001b[0m \u001b[32m━━━━━━━━━━━━━━━━━━━━\u001b[0m\u001b[37m\u001b[0m \u001b[1m0s\u001b[0m 2ms/step - accuracy: 0.8982 - loss: 0.0215 - val_accuracy: 0.9013 - val_loss: 0.0217\n",
      "Epoch 69/100\n",
      "\u001b[1m199/199\u001b[0m \u001b[32m━━━━━━━━━━━━━━━━━━━━\u001b[0m\u001b[37m\u001b[0m \u001b[1m1s\u001b[0m 2ms/step - accuracy: 0.8953 - loss: 0.0210 - val_accuracy: 0.8982 - val_loss: 0.0217\n",
      "Epoch 70/100\n",
      "\u001b[1m199/199\u001b[0m \u001b[32m━━━━━━━━━━━━━━━━━━━━\u001b[0m\u001b[37m\u001b[0m \u001b[1m1s\u001b[0m 3ms/step - accuracy: 0.8966 - loss: 0.0219 - val_accuracy: 0.8994 - val_loss: 0.0218\n",
      "Epoch 71/100\n",
      "\u001b[1m199/199\u001b[0m \u001b[32m━━━━━━━━━━━━━━━━━━━━\u001b[0m\u001b[37m\u001b[0m \u001b[1m1s\u001b[0m 3ms/step - accuracy: 0.8985 - loss: 0.0216 - val_accuracy: 0.9007 - val_loss: 0.0217\n",
      "Epoch 72/100\n",
      "\u001b[1m199/199\u001b[0m \u001b[32m━━━━━━━━━━━━━━━━━━━━\u001b[0m\u001b[37m\u001b[0m \u001b[1m1s\u001b[0m 5ms/step - accuracy: 0.8946 - loss: 0.0215 - val_accuracy: 0.9032 - val_loss: 0.0218\n",
      "Epoch 73/100\n",
      "\u001b[1m199/199\u001b[0m \u001b[32m━━━━━━━━━━━━━━━━━━━━\u001b[0m\u001b[37m\u001b[0m \u001b[1m1s\u001b[0m 4ms/step - accuracy: 0.9039 - loss: 0.0211 - val_accuracy: 0.9001 - val_loss: 0.0217\n",
      "Epoch 74/100\n",
      "\u001b[1m199/199\u001b[0m \u001b[32m━━━━━━━━━━━━━━━━━━━━\u001b[0m\u001b[37m\u001b[0m \u001b[1m1s\u001b[0m 4ms/step - accuracy: 0.8966 - loss: 0.0210 - val_accuracy: 0.9013 - val_loss: 0.0217\n",
      "Epoch 75/100\n",
      "\u001b[1m199/199\u001b[0m \u001b[32m━━━━━━━━━━━━━━━━━━━━\u001b[0m\u001b[37m\u001b[0m \u001b[1m1s\u001b[0m 3ms/step - accuracy: 0.8990 - loss: 0.0221 - val_accuracy: 0.9032 - val_loss: 0.0218\n",
      "Epoch 76/100\n",
      "\u001b[1m199/199\u001b[0m \u001b[32m━━━━━━━━━━━━━━━━━━━━\u001b[0m\u001b[37m\u001b[0m \u001b[1m0s\u001b[0m 2ms/step - accuracy: 0.8986 - loss: 0.0219 - val_accuracy: 0.9019 - val_loss: 0.0217\n",
      "Epoch 77/100\n",
      "\u001b[1m199/199\u001b[0m \u001b[32m━━━━━━━━━━━━━━━━━━━━\u001b[0m\u001b[37m\u001b[0m \u001b[1m1s\u001b[0m 3ms/step - accuracy: 0.9030 - loss: 0.0209 - val_accuracy: 0.9026 - val_loss: 0.0217\n",
      "Epoch 78/100\n",
      "\u001b[1m199/199\u001b[0m \u001b[32m━━━━━━━━━━━━━━━━━━━━\u001b[0m\u001b[37m\u001b[0m \u001b[1m1s\u001b[0m 2ms/step - accuracy: 0.9014 - loss: 0.0215 - val_accuracy: 0.9051 - val_loss: 0.0217\n",
      "Epoch 79/100\n",
      "\u001b[1m199/199\u001b[0m \u001b[32m━━━━━━━━━━━━━━━━━━━━\u001b[0m\u001b[37m\u001b[0m \u001b[1m0s\u001b[0m 2ms/step - accuracy: 0.8996 - loss: 0.0214 - val_accuracy: 0.9019 - val_loss: 0.0217\n",
      "Epoch 80/100\n",
      "\u001b[1m199/199\u001b[0m \u001b[32m━━━━━━━━━━━━━━━━━━━━\u001b[0m\u001b[37m\u001b[0m \u001b[1m1s\u001b[0m 3ms/step - accuracy: 0.8923 - loss: 0.0216 - val_accuracy: 0.9019 - val_loss: 0.0217\n",
      "Epoch 81/100\n",
      "\u001b[1m199/199\u001b[0m \u001b[32m━━━━━━━━━━━━━━━━━━━━\u001b[0m\u001b[37m\u001b[0m \u001b[1m1s\u001b[0m 3ms/step - accuracy: 0.8991 - loss: 0.0212 - val_accuracy: 0.9019 - val_loss: 0.0218\n",
      "Epoch 82/100\n",
      "\u001b[1m199/199\u001b[0m \u001b[32m━━━━━━━━━━━━━━━━━━━━\u001b[0m\u001b[37m\u001b[0m \u001b[1m1s\u001b[0m 2ms/step - accuracy: 0.9000 - loss: 0.0211 - val_accuracy: 0.9045 - val_loss: 0.0218\n",
      "Epoch 83/100\n",
      "\u001b[1m199/199\u001b[0m \u001b[32m━━━━━━━━━━━━━━━━━━━━\u001b[0m\u001b[37m\u001b[0m \u001b[1m1s\u001b[0m 3ms/step - accuracy: 0.9027 - loss: 0.0207 - val_accuracy: 0.9007 - val_loss: 0.0217\n",
      "Epoch 84/100\n",
      "\u001b[1m199/199\u001b[0m \u001b[32m━━━━━━━━━━━━━━━━━━━━\u001b[0m\u001b[37m\u001b[0m \u001b[1m0s\u001b[0m 2ms/step - accuracy: 0.9060 - loss: 0.0216 - val_accuracy: 0.9051 - val_loss: 0.0218\n",
      "Epoch 85/100\n",
      "\u001b[1m199/199\u001b[0m \u001b[32m━━━━━━━━━━━━━━━━━━━━\u001b[0m\u001b[37m\u001b[0m \u001b[1m1s\u001b[0m 3ms/step - accuracy: 0.8895 - loss: 0.0212 - val_accuracy: 0.9007 - val_loss: 0.0217\n",
      "Epoch 86/100\n",
      "\u001b[1m199/199\u001b[0m \u001b[32m━━━━━━━━━━━━━━━━━━━━\u001b[0m\u001b[37m\u001b[0m \u001b[1m1s\u001b[0m 3ms/step - accuracy: 0.9090 - loss: 0.0210 - val_accuracy: 0.9026 - val_loss: 0.0217\n",
      "Epoch 87/100\n",
      "\u001b[1m199/199\u001b[0m \u001b[32m━━━━━━━━━━━━━━━━━━━━\u001b[0m\u001b[37m\u001b[0m \u001b[1m1s\u001b[0m 2ms/step - accuracy: 0.8919 - loss: 0.0216 - val_accuracy: 0.8988 - val_loss: 0.0217\n",
      "Epoch 88/100\n",
      "\u001b[1m199/199\u001b[0m \u001b[32m━━━━━━━━━━━━━━━━━━━━\u001b[0m\u001b[37m\u001b[0m \u001b[1m1s\u001b[0m 3ms/step - accuracy: 0.9021 - loss: 0.0211 - val_accuracy: 0.9001 - val_loss: 0.0217\n",
      "Epoch 89/100\n",
      "\u001b[1m199/199\u001b[0m \u001b[32m━━━━━━━━━━━━━━━━━━━━\u001b[0m\u001b[37m\u001b[0m \u001b[1m1s\u001b[0m 3ms/step - accuracy: 0.9019 - loss: 0.0217 - val_accuracy: 0.9032 - val_loss: 0.0217\n",
      "Epoch 90/100\n",
      "\u001b[1m199/199\u001b[0m \u001b[32m━━━━━━━━━━━━━━━━━━━━\u001b[0m\u001b[37m\u001b[0m \u001b[1m1s\u001b[0m 3ms/step - accuracy: 0.8974 - loss: 0.0218 - val_accuracy: 0.9026 - val_loss: 0.0217\n",
      "Epoch 91/100\n",
      "\u001b[1m199/199\u001b[0m \u001b[32m━━━━━━━━━━━━━━━━━━━━\u001b[0m\u001b[37m\u001b[0m \u001b[1m0s\u001b[0m 2ms/step - accuracy: 0.9073 - loss: 0.0210 - val_accuracy: 0.9045 - val_loss: 0.0217\n",
      "Epoch 92/100\n",
      "\u001b[1m199/199\u001b[0m \u001b[32m━━━━━━━━━━━━━━━━━━━━\u001b[0m\u001b[37m\u001b[0m \u001b[1m1s\u001b[0m 3ms/step - accuracy: 0.9042 - loss: 0.0217 - val_accuracy: 0.9013 - val_loss: 0.0217\n",
      "Epoch 93/100\n",
      "\u001b[1m199/199\u001b[0m \u001b[32m━━━━━━━━━━━━━━━━━━━━\u001b[0m\u001b[37m\u001b[0m \u001b[1m1s\u001b[0m 3ms/step - accuracy: 0.8922 - loss: 0.0216 - val_accuracy: 0.8994 - val_loss: 0.0217\n",
      "Epoch 94/100\n",
      "\u001b[1m199/199\u001b[0m \u001b[32m━━━━━━━━━━━━━━━━━━━━\u001b[0m\u001b[37m\u001b[0m \u001b[1m1s\u001b[0m 2ms/step - accuracy: 0.8926 - loss: 0.0215 - val_accuracy: 0.9013 - val_loss: 0.0217\n",
      "Epoch 95/100\n",
      "\u001b[1m199/199\u001b[0m \u001b[32m━━━━━━━━━━━━━━━━━━━━\u001b[0m\u001b[37m\u001b[0m \u001b[1m1s\u001b[0m 2ms/step - accuracy: 0.9016 - loss: 0.0211 - val_accuracy: 0.9019 - val_loss: 0.0217\n",
      "Epoch 96/100\n",
      "\u001b[1m199/199\u001b[0m \u001b[32m━━━━━━━━━━━━━━━━━━━━\u001b[0m\u001b[37m\u001b[0m \u001b[1m1s\u001b[0m 6ms/step - accuracy: 0.8962 - loss: 0.0218 - val_accuracy: 0.8988 - val_loss: 0.0217\n",
      "Epoch 97/100\n",
      "\u001b[1m199/199\u001b[0m \u001b[32m━━━━━━━━━━━━━━━━━━━━\u001b[0m\u001b[37m\u001b[0m \u001b[1m1s\u001b[0m 4ms/step - accuracy: 0.8993 - loss: 0.0223 - val_accuracy: 0.9019 - val_loss: 0.0217\n",
      "Epoch 98/100\n",
      "\u001b[1m199/199\u001b[0m \u001b[32m━━━━━━━━━━━━━━━━━━━━\u001b[0m\u001b[37m\u001b[0m \u001b[1m1s\u001b[0m 4ms/step - accuracy: 0.9009 - loss: 0.0214 - val_accuracy: 0.9026 - val_loss: 0.0217\n",
      "Epoch 99/100\n",
      "\u001b[1m199/199\u001b[0m \u001b[32m━━━━━━━━━━━━━━━━━━━━\u001b[0m\u001b[37m\u001b[0m \u001b[1m1s\u001b[0m 4ms/step - accuracy: 0.8967 - loss: 0.0213 - val_accuracy: 0.9001 - val_loss: 0.0217\n",
      "Epoch 100/100\n",
      "\u001b[1m199/199\u001b[0m \u001b[32m━━━━━━━━━━━━━━━━━━━━\u001b[0m\u001b[37m\u001b[0m \u001b[1m1s\u001b[0m 4ms/step - accuracy: 0.8967 - loss: 0.0215 - val_accuracy: 0.9063 - val_loss: 0.0217\n"
     ]
    }
   ],
   "source": [
    "# Train the model\n",
    "history = weather_model.fit(x_train_scaled, y_train_scaled, epochs=100, batch_size=32, validation_split=0.2, verbose=1,shuffle=True)"
   ]
  },
  {
   "cell_type": "code",
   "execution_count": 15,
   "id": "958d096d",
   "metadata": {},
   "outputs": [
    {
     "name": "stdout",
     "output_type": "stream",
     "text": [
      "\u001b[1m28/28\u001b[0m \u001b[32m━━━━━━━━━━━━━━━━━━━━\u001b[0m\u001b[37m\u001b[0m \u001b[1m0s\u001b[0m 3ms/step - accuracy: 0.8942 - loss: 0.0252\n",
      "Test Loss: [0.024538660421967506, 0.8936651349067688]\n"
     ]
    }
   ],
   "source": [
    "loss = weather_model.evaluate(x_test_scaled, y_test_scaled)\n",
    "print(\"Test Loss:\", loss)"
   ]
  },
  {
   "cell_type": "code",
   "execution_count": 16,
   "id": "286b7adf",
   "metadata": {},
   "outputs": [],
   "source": [
    "def predict_weather():\n",
    "    rel_humid = float(input(\"Enter Relative Humidity: \"))\n",
    "    avg_total_prec = float(input(\"Enter Average Total Precipitation: \"))\n",
    "    ps_pred = float(input(\"Enter Pressure Sensor: \"))\n",
    "    winds = float(input(\"Enter Windspeed: \"))\n",
    "    buff_d = pd.DataFrame({\n",
    "        'RH2M': [rel_humid],            \n",
    "        'PRECTOTCORR': [avg_total_prec],\n",
    "        'PS': [ps_pred],               \n",
    "        'WS10_RANGE': [winds]                           \n",
    "    })\n",
    "    input_preds = scaler_X.transform(buff_d)\n",
    "    predictions_scaled = weather_model.predict(input_preds)\n",
    "    \n",
    "\n",
    "    y_pred = weather_model.predict(x_test_scaled)\n",
    "    # Assuming y_true contains the true temperature values and y_pred contains the predicted values\n",
    "    mae = mean_absolute_error(y_test_scaled, y_pred)\n",
    "\n",
    "    # Calculate error percentage\n",
    "    error_percent = (mae / y_test_scaled.mean()) \n",
    "    \n",
    "    # Inverse transform the scaled predictions to get the actual temperature values\n",
    "    predictions = scaler_y.inverse_transform(predictions_scaled)\n",
    "    predicted_temp_max_next_day = predictions[:, 0] - (predictions[:, 0] * error_percent) \n",
    "    predicted_temp_min_next_day = predictions[:, 1] - (predictions[:, 1] * error_percent)\n",
    "\n",
    "    print(\"Predicted Max_Temp:\", predicted_temp_max_next_day)\n",
    "    print(\"Predicted Min_Temp:\", predicted_temp_min_next_day)"
   ]
  },
  {
   "cell_type": "code",
   "execution_count": 17,
   "id": "fb83c79a",
   "metadata": {},
   "outputs": [
    {
     "name": "stdout",
     "output_type": "stream",
     "text": [
      "Enter Relative Humidity: j\n"
     ]
    },
    {
     "ename": "ValueError",
     "evalue": "could not convert string to float: 'j'",
     "output_type": "error",
     "traceback": [
      "\u001b[1;31m---------------------------------------------------------------------------\u001b[0m",
      "\u001b[1;31mValueError\u001b[0m                                Traceback (most recent call last)",
      "\u001b[1;32m~\\AppData\\Local\\Temp/ipykernel_39952/3863965693.py\u001b[0m in \u001b[0;36m<module>\u001b[1;34m\u001b[0m\n\u001b[1;32m----> 1\u001b[1;33m \u001b[0mpredict_weather\u001b[0m\u001b[1;33m(\u001b[0m\u001b[1;33m)\u001b[0m\u001b[1;33m\u001b[0m\u001b[1;33m\u001b[0m\u001b[0m\n\u001b[0m",
      "\u001b[1;32m~\\AppData\\Local\\Temp/ipykernel_39952/803279173.py\u001b[0m in \u001b[0;36mpredict_weather\u001b[1;34m()\u001b[0m\n\u001b[0;32m      1\u001b[0m \u001b[1;32mdef\u001b[0m \u001b[0mpredict_weather\u001b[0m\u001b[1;33m(\u001b[0m\u001b[1;33m)\u001b[0m\u001b[1;33m:\u001b[0m\u001b[1;33m\u001b[0m\u001b[1;33m\u001b[0m\u001b[0m\n\u001b[1;32m----> 2\u001b[1;33m     \u001b[0mrel_humid\u001b[0m \u001b[1;33m=\u001b[0m \u001b[0mfloat\u001b[0m\u001b[1;33m(\u001b[0m\u001b[0minput\u001b[0m\u001b[1;33m(\u001b[0m\u001b[1;34m\"Enter Relative Humidity: \"\u001b[0m\u001b[1;33m)\u001b[0m\u001b[1;33m)\u001b[0m\u001b[1;33m\u001b[0m\u001b[1;33m\u001b[0m\u001b[0m\n\u001b[0m\u001b[0;32m      3\u001b[0m     \u001b[0mavg_total_prec\u001b[0m \u001b[1;33m=\u001b[0m \u001b[0mfloat\u001b[0m\u001b[1;33m(\u001b[0m\u001b[0minput\u001b[0m\u001b[1;33m(\u001b[0m\u001b[1;34m\"Enter Average Total Precipitation: \"\u001b[0m\u001b[1;33m)\u001b[0m\u001b[1;33m)\u001b[0m\u001b[1;33m\u001b[0m\u001b[1;33m\u001b[0m\u001b[0m\n\u001b[0;32m      4\u001b[0m     \u001b[0mps_pred\u001b[0m \u001b[1;33m=\u001b[0m \u001b[0mfloat\u001b[0m\u001b[1;33m(\u001b[0m\u001b[0minput\u001b[0m\u001b[1;33m(\u001b[0m\u001b[1;34m\"Enter Pressure Sensor: \"\u001b[0m\u001b[1;33m)\u001b[0m\u001b[1;33m)\u001b[0m\u001b[1;33m\u001b[0m\u001b[1;33m\u001b[0m\u001b[0m\n\u001b[0;32m      5\u001b[0m     \u001b[0mwinds\u001b[0m \u001b[1;33m=\u001b[0m \u001b[0mfloat\u001b[0m\u001b[1;33m(\u001b[0m\u001b[0minput\u001b[0m\u001b[1;33m(\u001b[0m\u001b[1;34m\"Enter Windspeed: \"\u001b[0m\u001b[1;33m)\u001b[0m\u001b[1;33m)\u001b[0m\u001b[1;33m\u001b[0m\u001b[1;33m\u001b[0m\u001b[0m\n",
      "\u001b[1;31mValueError\u001b[0m: could not convert string to float: 'j'"
     ]
    }
   ],
   "source": [
    "predict_weather()"
   ]
  },
  {
   "cell_type": "code",
   "execution_count": null,
   "id": "8d70ba10",
   "metadata": {},
   "outputs": [],
   "source": [
    "test.head(2)"
   ]
  },
  {
   "cell_type": "code",
   "execution_count": null,
   "id": "baf8347d",
   "metadata": {},
   "outputs": [],
   "source": []
  }
 ],
 "metadata": {
  "kernelspec": {
   "display_name": "Python 3 (ipykernel)",
   "language": "python",
   "name": "python3"
  },
  "language_info": {
   "codemirror_mode": {
    "name": "ipython",
    "version": 3
   },
   "file_extension": ".py",
   "mimetype": "text/x-python",
   "name": "python",
   "nbconvert_exporter": "python",
   "pygments_lexer": "ipython3",
   "version": "3.9.7"
  }
 },
 "nbformat": 4,
 "nbformat_minor": 5
}
